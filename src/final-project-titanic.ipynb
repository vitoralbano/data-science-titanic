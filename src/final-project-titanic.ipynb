{
 "cells": [
  {
   "cell_type": "markdown",
   "metadata": {},
   "source": [
    "# Data Science I - Projeto final"
   ]
  },
  {
   "cell_type": "code",
   "execution_count": null,
   "metadata": {},
   "outputs": [],
   "source": [
    "import pandas as pd\n",
    "import matplotlib.pyplot as plt\n",
    "%matplotlib inline"
   ]
  },
  {
   "cell_type": "code",
   "execution_count": null,
   "metadata": {},
   "outputs": [],
   "source": [
    "df = pd.read_csv('titanic-data-6.csv')"
   ]
  },
  {
   "cell_type": "markdown",
   "metadata": {},
   "source": [
    "## Perguntas (Questions)"
   ]
  },
  {
   "cell_type": "markdown",
   "metadata": {},
   "source": [
    "    1. Quais foram os fatores que fizeram com que algumas pessoas fossem mais propensas a sobreviver?\n",
    "    2. Quais são as características comuns entre os passageiros da mesma classe? \n",
    "    3. Em qual classe havia mais familiares?\n",
    "    4. Qual a proporção de tripulantes e passageiros que sobreviveram?"
   ]
  },
  {
   "cell_type": "markdown",
   "metadata": {},
   "source": [
    "## Preparar dados (Wrangle data)"
   ]
  },
  {
   "cell_type": "code",
   "execution_count": null,
   "metadata": {},
   "outputs": [],
   "source": [
    "df.shape"
   ]
  },
  {
   "cell_type": "code",
   "execution_count": null,
   "metadata": {},
   "outputs": [],
   "source": [
    "df.head()"
   ]
  },
  {
   "cell_type": "code",
   "execution_count": null,
   "metadata": {},
   "outputs": [],
   "source": [
    "df.info()"
   ]
  },
  {
   "cell_type": "code",
   "execution_count": null,
   "metadata": {},
   "outputs": [],
   "source": [
    "df['Sex'].nunique()"
   ]
  },
  {
   "cell_type": "code",
   "execution_count": null,
   "metadata": {},
   "outputs": [],
   "source": [
    "# Verificar se existe campo com valor nulo\n",
    "df.isnull().any()"
   ]
  },
  {
   "cell_type": "code",
   "execution_count": null,
   "metadata": {},
   "outputs": [],
   "source": [
    "# Preencher valores nulos de Idade com a média\n",
    "df['Age'].fillna(round(df['Age'].mean()), inplace=True)"
   ]
  },
  {
   "cell_type": "code",
   "execution_count": null,
   "metadata": {},
   "outputs": [],
   "source": [
    "# Verificar se há passageiros não embarcados marcados como não sobreviventes.\n",
    "df[df['Survived'] == 0]['Embarked'].isnull().any().sum()"
   ]
  },
  {
   "cell_type": "code",
   "execution_count": null,
   "metadata": {},
   "outputs": [],
   "source": [
    "# Remover passageiros sem local de embarque\n",
    "df['Embarked'].dropna(how='any', inplace=True)"
   ]
  },
  {
   "cell_type": "code",
   "execution_count": null,
   "metadata": {},
   "outputs": [],
   "source": [
    "# Remover a coluna de Ticket, sem potencial de informação\n",
    "df.drop(labels='Ticket', axis=1, inplace=True)"
   ]
  },
  {
   "cell_type": "markdown",
   "metadata": {},
   "source": [
    "## Explorar (Explore)"
   ]
  },
  {
   "cell_type": "code",
   "execution_count": null,
   "metadata": {},
   "outputs": [],
   "source": [
    "pd.plotting.scatter_matrix(df[['Survived', 'Pclass', 'Age', 'SibSp', 'Parch', 'Fare']], figsize=(15,15));"
   ]
  },
  {
   "cell_type": "code",
   "execution_count": null,
   "metadata": {},
   "outputs": [],
   "source": [
    "df.hist(figsize=(15,15));"
   ]
  },
  {
   "cell_type": "code",
   "execution_count": null,
   "metadata": {},
   "outputs": [],
   "source": [
    "df.groupby('Survived')[['Age', 'Pclass', 'SibSp', 'Fare']].count().hist()"
   ]
  },
  {
   "cell_type": "code",
   "execution_count": null,
   "metadata": {},
   "outputs": [],
   "source": [
    "df.head()"
   ]
  },
  {
   "cell_type": "code",
   "execution_count": null,
   "metadata": {},
   "outputs": [],
   "source": [
    "# DF Survived\n",
    "df_surv = df[df['Survived'] == 1]\n",
    "surv_proportions = df_surv.groupby('Pclass')['Sex'].value_counts()\n",
    "dead_proportions = df_dead.groupby('Pclass')['Sex'].value_counts()\n",
    "merged_proportions = surv_proportions + dead_proportions\n",
    "print(merged_proportions)\n",
    "# surv_proportions = surv_proportions / df_surv.shape[0]\n",
    "# surv_proportions.plot(kind='bar', title='Proportions of Survived by Class and Sex', figsize=(15, 15));\n",
    "# plt.xlabel='Class by Sex'\n",
    "# plt.ylabel='Proportion'\n",
    "# print(df.groupby('Pclass')['Sex'].value_counts())\n"
   ]
  },
  {
   "cell_type": "code",
   "execution_count": null,
   "metadata": {},
   "outputs": [],
   "source": [
    "# DF Death\n",
    "df_dead = df[df['Survived'] == 0]\n",
    "\n",
    "dead_proportions = df_dead.groupby('Pclass')['Sex'].value_counts()\n",
    "print(dead_proportions)\n",
    "dead_proportions = dead_proportions / df_dead.shape[0]\n",
    "dead_proportions.plot(kind='bar', title='Proportions of Deaths by Class and Sex', figsize=(15, 15));\n",
    "plt.xlabel='Class and Sex'\n",
    "plt.ylabel='Proportion'"
   ]
  },
  {
   "cell_type": "code",
   "execution_count": null,
   "metadata": {},
   "outputs": [],
   "source": []
  }
 ],
 "metadata": {
  "kernelspec": {
   "display_name": "Python [default]",
   "language": "python",
   "name": "python3"
  },
  "language_info": {
   "codemirror_mode": {
    "name": "ipython",
    "version": 3
   },
   "file_extension": ".py",
   "mimetype": "text/x-python",
   "name": "python",
   "nbconvert_exporter": "python",
   "pygments_lexer": "ipython3",
   "version": "3.6.5"
  }
 },
 "nbformat": 4,
 "nbformat_minor": 2
}
