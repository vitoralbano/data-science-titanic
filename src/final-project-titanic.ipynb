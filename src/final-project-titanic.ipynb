{
 "cells": [
  {
   "cell_type": "markdown",
   "metadata": {},
   "source": [
    "# Data Science I - Projeto final"
   ]
  },
  {
   "cell_type": "code",
   "execution_count": null,
   "metadata": {},
   "outputs": [],
   "source": [
    "import pandas as pd\n",
    "import matplotlib.pyplot as plt\n",
    "import numpy as np\n",
    "import seaborn as sns\n",
    "\n",
    "%matplotlib inline"
   ]
  },
  {
   "cell_type": "code",
   "execution_count": null,
   "metadata": {},
   "outputs": [],
   "source": [
    "df = pd.read_csv('titanic-data-6.csv')"
   ]
  },
  {
   "cell_type": "markdown",
   "metadata": {},
   "source": [
    "---"
   ]
  },
  {
   "cell_type": "markdown",
   "metadata": {},
   "source": [
    "# Preparar dados (Wrangle data)"
   ]
  },
  {
   "cell_type": "markdown",
   "metadata": {},
   "source": [
    "Consultar o formato do dataframe, número de linhas e colunas."
   ]
  },
  {
   "cell_type": "code",
   "execution_count": null,
   "metadata": {},
   "outputs": [],
   "source": [
    "df.shape"
   ]
  },
  {
   "cell_type": "markdown",
   "metadata": {},
   "source": [
    "Consultar as primeiro cinco linhas do dataframe."
   ]
  },
  {
   "cell_type": "code",
   "execution_count": null,
   "metadata": {},
   "outputs": [],
   "source": [
    "df.head()"
   ]
  },
  {
   "cell_type": "markdown",
   "metadata": {},
   "source": [
    "Consultar informações como número de entradas, colunas e seus tipos de dados."
   ]
  },
  {
   "cell_type": "code",
   "execution_count": null,
   "metadata": {},
   "outputs": [],
   "source": [
    "df.info()"
   ]
  },
  {
   "cell_type": "markdown",
   "metadata": {},
   "source": [
    "Renomear as colunas"
   ]
  },
  {
   "cell_type": "code",
   "execution_count": null,
   "metadata": {},
   "outputs": [],
   "source": [
    "df.rename(\n",
    "    columns={\n",
    "        'PassengerId': 'id_passageiro', \n",
    "        'Survived': 'sobreviveu', \n",
    "        'Pclass':'classe', \n",
    "        'Name':'nome', \n",
    "        'Sex':'sexo', \n",
    "        'Age':'idade', \n",
    "        'SibSp':'irmao_conjuge', \n",
    "        'Parch':'pais_filhos', \n",
    "        'Ticket':'ticket', \n",
    "        'Fare':'tarifa', \n",
    "        'Cabin':'cabine',\n",
    "        'Embarked': 'embarcou'\n",
    "    }, inplace=True)"
   ]
  },
  {
   "cell_type": "markdown",
   "metadata": {},
   "source": [
    "Verificar a existência de linhas duplicadas."
   ]
  },
  {
   "cell_type": "code",
   "execution_count": null,
   "metadata": {},
   "outputs": [],
   "source": [
    "df.duplicated().sum()"
   ]
  },
  {
   "cell_type": "markdown",
   "metadata": {},
   "source": [
    "Verificar se há nomes repetidos"
   ]
  },
  {
   "cell_type": "code",
   "execution_count": null,
   "metadata": {},
   "outputs": [],
   "source": [
    "df['nome'].duplicated().sum()"
   ]
  },
  {
   "cell_type": "markdown",
   "metadata": {},
   "source": [
    "Verificar variedade de registros únicos em sexo"
   ]
  },
  {
   "cell_type": "code",
   "execution_count": null,
   "metadata": {},
   "outputs": [],
   "source": [
    "df['sexo'].nunique()"
   ]
  },
  {
   "cell_type": "code",
   "execution_count": null,
   "metadata": {},
   "outputs": [],
   "source": [
    "df['sexo'].unique()"
   ]
  },
  {
   "cell_type": "markdown",
   "metadata": {},
   "source": [
    "Tradução de valores de 'sexo'"
   ]
  },
  {
   "cell_type": "code",
   "execution_count": null,
   "metadata": {},
   "outputs": [],
   "source": [
    "pt_sex = {'male': 'Masculino', 'female':'Feminino'}\n",
    "df['sexo'] = df['sexo'].replace(pt_sex.keys(), pt_sex.values())"
   ]
  },
  {
   "cell_type": "code",
   "execution_count": null,
   "metadata": {},
   "outputs": [],
   "source": [
    "df['sexo'].unique()"
   ]
  },
  {
   "cell_type": "markdown",
   "metadata": {},
   "source": [
    "Verificar variedade de registros únicos em sobreviventes"
   ]
  },
  {
   "cell_type": "code",
   "execution_count": null,
   "metadata": {},
   "outputs": [],
   "source": [
    "df['sobreviveu'].nunique()"
   ]
  },
  {
   "cell_type": "code",
   "execution_count": null,
   "metadata": {},
   "outputs": [],
   "source": [
    "df['sobreviveu'].unique()"
   ]
  },
  {
   "cell_type": "markdown",
   "metadata": {},
   "source": [
    "Substituição dos valores de sobreviventes de 0, 1 para 'Não' e 'Sim', respectivamente"
   ]
  },
  {
   "cell_type": "code",
   "execution_count": null,
   "metadata": {},
   "outputs": [],
   "source": [
    "pt_survived = {'0':'Não', '1':'Sim'}\n",
    "df['sobreviveu'] = df['sobreviveu'].astype(str).replace(pt_survived.keys(), pt_survived.values())"
   ]
  },
  {
   "cell_type": "code",
   "execution_count": null,
   "metadata": {},
   "outputs": [],
   "source": [
    "df['sobreviveu'].head()"
   ]
  },
  {
   "cell_type": "markdown",
   "metadata": {},
   "source": [
    "Verificar se existe valores nulos"
   ]
  },
  {
   "cell_type": "code",
   "execution_count": null,
   "metadata": {},
   "outputs": [],
   "source": [
    "df.isnull().any()"
   ]
  },
  {
   "cell_type": "markdown",
   "metadata": {},
   "source": [
    "Foram encontrados valores nulos nas colunas 'idade', 'cabine' e 'embarcou'"
   ]
  },
  {
   "cell_type": "markdown",
   "metadata": {},
   "source": [
    "Preenchimento de valores nulos em idade com seu valor médio"
   ]
  },
  {
   "cell_type": "code",
   "execution_count": null,
   "metadata": {},
   "outputs": [],
   "source": [
    "df['idade'].fillna(round(df['idade'].mean()), inplace=True)"
   ]
  },
  {
   "cell_type": "markdown",
   "metadata": {},
   "source": [
    "Verificar os registros nulos em local de embarque (Embarked)"
   ]
  },
  {
   "cell_type": "code",
   "execution_count": null,
   "metadata": {},
   "outputs": [],
   "source": [
    "df['embarcou'].isnull().sum()"
   ]
  },
  {
   "cell_type": "code",
   "execution_count": null,
   "metadata": {},
   "outputs": [],
   "source": [
    "df[df['embarcou'].isnull()]"
   ]
  },
  {
   "cell_type": "markdown",
   "metadata": {},
   "source": [
    "Verificar se existe passageiros sem local de embarque marcados como não sobreviventes"
   ]
  },
  {
   "cell_type": "code",
   "execution_count": null,
   "metadata": {},
   "outputs": [],
   "source": [
    "df[df['sobreviveu'] == 'Não']['embarcou'].isnull().any().sum()"
   ]
  },
  {
   "cell_type": "markdown",
   "metadata": {},
   "source": [
    "Por não existir passageiros sem local de embarque marcado como não sobrevivente todos serão removidos, considerando que estes não estavam a bordo"
   ]
  },
  {
   "cell_type": "code",
   "execution_count": null,
   "metadata": {},
   "outputs": [],
   "source": [
    "df.dropna(subset=['embarcou'], inplace=True)"
   ]
  },
  {
   "cell_type": "markdown",
   "metadata": {},
   "source": [
    "Validar a remoção de passageiros sem local de embarque"
   ]
  },
  {
   "cell_type": "code",
   "execution_count": null,
   "metadata": {},
   "outputs": [],
   "source": [
    "df['embarcou'].isnull().any().sum()"
   ]
  },
  {
   "cell_type": "code",
   "execution_count": null,
   "metadata": {},
   "outputs": [],
   "source": [
    "df.shape"
   ]
  },
  {
   "cell_type": "markdown",
   "metadata": {},
   "source": [
    "Listar os valores únicos para a coluna referente ao local em que o passageiro embarcou"
   ]
  },
  {
   "cell_type": "code",
   "execution_count": null,
   "metadata": {},
   "outputs": [],
   "source": [
    "df['embarcou'].unique()"
   ]
  },
  {
   "cell_type": "markdown",
   "metadata": {},
   "source": [
    "Substituição do nome dos locais de embarque abreviados pelo nome completo"
   ]
  },
  {
   "cell_type": "code",
   "execution_count": null,
   "metadata": {},
   "outputs": [],
   "source": [
    "embarked_places = {'S': 'Southampton', 'C': 'Cherbourg', 'Q': 'Queenstown'}\n",
    "df['embarcou'].replace(embarked_places.keys(), embarked_places.values(), inplace=True)"
   ]
  },
  {
   "cell_type": "markdown",
   "metadata": {},
   "source": [
    "Categorização das idades dos passageiros"
   ]
  },
  {
   "cell_type": "code",
   "execution_count": null,
   "metadata": {},
   "outputs": [],
   "source": [
    "ages = [0, 15, 25, 65, np.inf]\n",
    "ages_categories = ['Criança', 'Jovem', 'Adulto', 'Idoso']\n",
    "\n",
    "df['categoria_idade'] = pd.cut(df['idade'], bins=ages, labels=ages_categories,right=True)"
   ]
  },
  {
   "cell_type": "markdown",
   "metadata": {},
   "source": [
    "Validar o resultado da classificação de idade"
   ]
  },
  {
   "cell_type": "code",
   "execution_count": null,
   "metadata": {},
   "outputs": [],
   "source": [
    "df['categoria_idade'].unique()"
   ]
  },
  {
   "cell_type": "markdown",
   "metadata": {},
   "source": [
    "---"
   ]
  },
  {
   "cell_type": "markdown",
   "metadata": {},
   "source": [
    "# Explorar (Explore)"
   ]
  },
  {
   "cell_type": "markdown",
   "metadata": {},
   "source": [
    "Matriz de gráficos de dispersão para ideias"
   ]
  },
  {
   "cell_type": "code",
   "execution_count": null,
   "metadata": {},
   "outputs": [],
   "source": [
    "pd.plotting.scatter_matrix(df[['sobreviveu', 'classe', 'idade', 'irmao_conjuge', 'pais_filhos', 'tarifa']], figsize=(15,15));"
   ]
  },
  {
   "cell_type": "code",
   "execution_count": null,
   "metadata": {},
   "outputs": [],
   "source": [
    "df.head()"
   ]
  },
  {
   "cell_type": "markdown",
   "metadata": {},
   "source": [
    "---"
   ]
  },
  {
   "cell_type": "markdown",
   "metadata": {},
   "source": [
    "# Configurações e funções"
   ]
  },
  {
   "cell_type": "markdown",
   "metadata": {},
   "source": [
    "Definir estilo padrão para os gráficos com Seaborn"
   ]
  },
  {
   "cell_type": "code",
   "execution_count": null,
   "metadata": {},
   "outputs": [],
   "source": [
    "sns.set_style('whitegrid')"
   ]
  },
  {
   "cell_type": "markdown",
   "metadata": {},
   "source": [
    "Definição de função para criar plot figure com título"
   ]
  },
  {
   "cell_type": "code",
   "execution_count": null,
   "metadata": {},
   "outputs": [],
   "source": [
    "def create_figure(title):\n",
    "    \"\"\"\n",
    "        Criar uma figure com titulo posicionado\n",
    "        \n",
    "        Args:\n",
    "            title (String): Valor a ser preenchido no título do gráfico \n",
    "            \n",
    "        Return:\n",
    "            (plt.Figure) Retorna uma Figure para adicionar gráficos (Plots)\n",
    "    \"\"\"\n",
    "    fig = plt.figure(title)\n",
    "    fig.suptitle(title, fontsize='x-large', horizontalalignment='center', verticalalignment='bottom')\n",
    "    plt.subplots_adjust(top=.9)\n",
    "    plt.tight_layout()\n",
    "    fig.set_figwidth(20)\n",
    "    \n",
    "    return fig\n"
   ]
  },
  {
   "cell_type": "markdown",
   "metadata": {},
   "source": [
    "---"
   ]
  },
  {
   "cell_type": "markdown",
   "metadata": {},
   "source": [
    "# Perguntas"
   ]
  },
  {
   "cell_type": "markdown",
   "metadata": {},
   "source": [
    "## 1. Quantos sobreviveram?"
   ]
  },
  {
   "cell_type": "markdown",
   "metadata": {},
   "source": [
    "Tabela de contagem e proporção de sobreviventes e mortes"
   ]
  },
  {
   "cell_type": "code",
   "execution_count": null,
   "metadata": {},
   "outputs": [],
   "source": [
    "def get_survivors():\n",
    "    \"\"\"\n",
    "        Exibir tabela com contagem de sobreviventes e proporção\n",
    "        \n",
    "        Return (dataframe)\n",
    "    \"\"\"\n",
    "    # Definição do dataframe de proporções\n",
    "    df_survivors = df['sobreviveu'].value_counts().reset_index()\n",
    "    df_survivors.rename(columns={'index': 'sobreviveu', 'sobreviveu': 'total'}, inplace=True)\n",
    "    df_survivors['proporcao'] = round(df_survivors['total'].apply(lambda value: value / df_survivors['total'].sum()) * 100, 2)\n",
    "    \n",
    "    return df_survivors"
   ]
  },
  {
   "cell_type": "code",
   "execution_count": null,
   "metadata": {},
   "outputs": [],
   "source": [
    "df_survivors = get_survivors()\n",
    "df_survivors[df_survivors['sobreviveu'] == 'Sim']"
   ]
  },
  {
   "cell_type": "markdown",
   "metadata": {},
   "source": [
    "Definição de função para gráfico de pie para a proporção de sobreviventes"
   ]
  },
  {
   "cell_type": "code",
   "execution_count": null,
   "metadata": {},
   "outputs": [],
   "source": [
    "def plot_survivors():\n",
    "    \"\"\"\n",
    "        Exibir pie plot de sobreviventes\n",
    "    \"\"\"\n",
    "    df_survivors = get_survivors()\n",
    "    fig = create_figure('')\n",
    "    \n",
    "    # pie plot\n",
    "    ax_pie = fig.add_subplot(121)\n",
    "    \n",
    "    values = df_survivors['proporcao'] * 100\n",
    "    explode = np.full(df_survivors.shape[0], 0.05)\n",
    "    labels = df_survivors['sobreviveu'].replace(['Sim','Não'],['Sobreviveu', 'Não sobreviveu'])\n",
    "\n",
    "    ax_pie.axis('equal')\n",
    "    ax_pie.pie(\n",
    "        values, \n",
    "        explode=explode, \n",
    "        labels=labels, \n",
    "        autopct='%1.1f%%', \n",
    "        shadow=True,\n",
    "        startangle=90,\n",
    "    );\n",
    "    \n",
    "    ax_pie.set_title('SOBREVIVENTES')\n",
    "    \n",
    "    # table plot\n",
    "    ax_table = fig.add_subplot(122)\n",
    "    table = ax_table.table(\n",
    "        cellText = df_survivors.values,\n",
    "        colLabels = ['SOBREVIVEU', 'TOTAL', 'PROPORÇÃO'],\n",
    "        loc='center',        \n",
    "    )\n",
    "    ax_table.axis('off')\n",
    "    ax_table.set_title('TABELA DE SOBREVIVENTES')\n",
    "    table.auto_set_font_size(False)\n",
    "    table.set_fontsize(13)\n",
    "    \n",
    "plot_survivors()"
   ]
  },
  {
   "cell_type": "markdown",
   "metadata": {},
   "source": [
    "## 2. Quantos morreram?"
   ]
  },
  {
   "cell_type": "markdown",
   "metadata": {},
   "source": [
    "Seleção dos que não sobreviveram no dataframe criado na questão anterior"
   ]
  },
  {
   "cell_type": "code",
   "execution_count": null,
   "metadata": {},
   "outputs": [],
   "source": [
    "df_survivors[df_survivors['sobreviveu'] == 'Não']"
   ]
  },
  {
   "cell_type": "markdown",
   "metadata": {},
   "source": [
    "## 3. Quantas crianças sobreviveram?"
   ]
  },
  {
   "cell_type": "code",
   "execution_count": null,
   "metadata": {},
   "outputs": [],
   "source": [
    "df.query('categoria_idade == \"Criança\"')['sobreviveu'].value_counts()"
   ]
  },
  {
   "cell_type": "code",
   "execution_count": null,
   "metadata": {},
   "outputs": [],
   "source": [
    "df.query('categoria_idade == \"Criança\"')['sobreviveu'].value_counts(normalize=True)"
   ]
  },
  {
   "cell_type": "markdown",
   "metadata": {},
   "source": [
    "49 crianças sobreviveram"
   ]
  },
  {
   "cell_type": "markdown",
   "metadata": {},
   "source": [
    "## 4. Quantas crianças morreram?"
   ]
  },
  {
   "cell_type": "code",
   "execution_count": null,
   "metadata": {},
   "outputs": [],
   "source": [
    "df.query('categoria_idade == \"Criança\"')['sobreviveu'].value_counts()"
   ]
  },
  {
   "cell_type": "markdown",
   "metadata": {},
   "source": [
    "34 crianças morreram"
   ]
  },
  {
   "cell_type": "markdown",
   "metadata": {},
   "source": [
    "Definição de função para criar gráfico de sobreviventes classificados como crianças "
   ]
  },
  {
   "cell_type": "code",
   "execution_count": null,
   "metadata": {},
   "outputs": [],
   "source": [
    "def plot_children_balance():\n",
    "    \"\"\"\n",
    "        Gráfico de crianças sobreviventes e não sobreviventes\n",
    "    \"\"\"\n",
    "    df_children = df.query('categoria_idade == \"Criança\"')['sobreviveu'].value_counts(normalize=True).to_frame().reset_index()\n",
    "    df_children.rename(columns={'index': 'sobreviveu', 'sobreviveu': 'percentual'}, inplace=True)\n",
    "    df_children['percentual'] = round(df_children['percentual'] * 100, 2)\n",
    "    \n",
    "    ax = sns.barplot(\n",
    "        data = df_children,\n",
    "        x = 'sobreviveu',\n",
    "        y = 'percentual',\n",
    "        palette = 'Blues_d',\n",
    "    )\n",
    "    \n",
    "    plt.title('SOBREVIVENTES: CRIANÇAS')\n",
    "    plt.xlabel('Sobreviveu')\n",
    "    plt.ylabel('Percentual')\n",
    "    \n",
    "    \n",
    "plot_children_balance()\n"
   ]
  },
  {
   "cell_type": "markdown",
   "metadata": {},
   "source": [
    "## 5. Qual a idade média entre os sobreviventes?"
   ]
  },
  {
   "cell_type": "markdown",
   "metadata": {},
   "source": [
    "Seleção dos sobreviventes e cáculo de idade média entre eles"
   ]
  },
  {
   "cell_type": "code",
   "execution_count": null,
   "metadata": {},
   "outputs": [],
   "source": [
    "df[df['sobreviveu'] == 'Sim']['idade'].mean()"
   ]
  },
  {
   "cell_type": "markdown",
   "metadata": {},
   "source": [
    "Definição da função para imprimir a distribuição e média de idade"
   ]
  },
  {
   "cell_type": "code",
   "execution_count": null,
   "metadata": {},
   "outputs": [],
   "source": [
    "def plot_age_dist():\n",
    "    \"\"\"\n",
    "        Gráfico de distribuição de idade\n",
    "    \"\"\"\n",
    "    fig = create_figure('DISTRIBUIÇÃO DE IDADE')\n",
    "    ax = fig.add_subplot(111)\n",
    "    df_ages_surv = df[df['sobreviveu'] == 'Sim']['idade']\n",
    "    df_ages_dead = df[df['sobreviveu'] == 'Não']['idade']\n",
    "    \n",
    "    sns.kdeplot(df_ages_surv, shade=True, label= 'Sobreviveram',)\n",
    "    sns.kdeplot(df_ages_dead, shade=True, label='Não sobreviveram',)\n",
    "    \n",
    "    ax.set_xlabel('Idade')\n",
    "    ax.set_ylabel('Densidade')\n",
    "    \n",
    "    \n",
    "plot_age_dist()"
   ]
  },
  {
   "cell_type": "markdown",
   "metadata": {},
   "source": [
    "## 6. Qual a idade média entre os que não sobreviveram?"
   ]
  },
  {
   "cell_type": "code",
   "execution_count": null,
   "metadata": {},
   "outputs": [],
   "source": [
    "round(df.query('sobreviveu == \"Não\"')['idade'].mean(),2)"
   ]
  },
  {
   "cell_type": "markdown",
   "metadata": {},
   "source": [
    "## 7. Qual a relação dos sobreviventes com a classe de ingresso?"
   ]
  },
  {
   "cell_type": "markdown",
   "metadata": {},
   "source": [
    "Pesquisa e normalização de sobreviventes por classe"
   ]
  },
  {
   "cell_type": "code",
   "execution_count": null,
   "metadata": {},
   "outputs": [],
   "source": [
    "df.groupby('classe')['sobreviveu'].value_counts(normalize=True)"
   ]
  },
  {
   "cell_type": "code",
   "execution_count": null,
   "metadata": {},
   "outputs": [],
   "source": [
    "df.groupby('classe')['sobreviveu'].value_counts()"
   ]
  },
  {
   "cell_type": "code",
   "execution_count": null,
   "metadata": {},
   "outputs": [],
   "source": [
    "def plot_surv_by_class():\n",
    "    \"\"\"\n",
    "        Gráfico de sobreviventes por classe\n",
    "    \"\"\"\n",
    "    df_surv_by_class = df.groupby('classe')['sobreviveu'].value_counts(normalize=True).to_frame()\n",
    "    df_surv_by_class.rename(columns={'sobreviveu':'percentual'}, inplace=True)\n",
    "    df_surv_by_class.reset_index(inplace=True)\n",
    "    df_surv_by_class['percentual'] = round(df_surv_by_class['percentual'] * 100, 2)\n",
    "\n",
    "    ax = sns.barplot(\n",
    "        data = df_surv_by_class,\n",
    "        x = 'classe',\n",
    "        y = 'percentual',\n",
    "        hue = 'sobreviveu',\n",
    "        palette = 'Blues_d',\n",
    "    )\n",
    "\n",
    "    plt.title('SOBREVIVENTES POR CLASSE')\n",
    "    plt.xlabel('Classe')\n",
    "    plt.ylabel('Percentual');\n",
    "    \n",
    "    return df_surv_by_class\n",
    "    \n",
    "plot_surv_by_class()"
   ]
  },
  {
   "cell_type": "markdown",
   "metadata": {},
   "source": [
    "A classe que apresentou maior número de sobreviventes foi a primeira com 62,6%."
   ]
  },
  {
   "cell_type": "markdown",
   "metadata": {},
   "source": [
    "## 8. Qual o sexo mais relevante entre os sobreviventes?"
   ]
  },
  {
   "cell_type": "code",
   "execution_count": null,
   "metadata": {},
   "outputs": [],
   "source": [
    "def survivors_by_sex():\n",
    "    pass\n",
    "\n",
    "df_surv_by_sex = df.query('sobreviveu == \"Sim\"')['sexo'].value_counts().to_frame().reset_index()\n"
   ]
  },
  {
   "cell_type": "code",
   "execution_count": null,
   "metadata": {},
   "outputs": [],
   "source": [
    "df.query('sobreviveu == \"Sim\"')['sexo'].value_counts(normalize=True).reset_index()"
   ]
  },
  {
   "cell_type": "code",
   "execution_count": null,
   "metadata": {},
   "outputs": [],
   "source": [
    "df.query('sobreviveu == \"Sim\" & sexo == \"Feminino\"')['classe'].value_counts()"
   ]
  },
  {
   "cell_type": "markdown",
   "metadata": {},
   "source": [
    "O gênero mais presente entre os sobreviventes é o feminino"
   ]
  },
  {
   "cell_type": "code",
   "execution_count": null,
   "metadata": {},
   "outputs": [],
   "source": [
    "def sex_survivors_compare():\n",
    "    \"\"\"\n",
    "        Exibir gráfico de comparação de sobreviventes do sexo masculino e feminino\n",
    "    \"\"\"\n",
    "    columns = ['sexo', 'proporcao']\n",
    "    df_surv = df.query('sobreviveu == \"Sim\"')['sexo'].value_counts(normalize=True).reset_index()\n",
    "    df_surv.columns = columns\n",
    "    df_surv['proporcao'] = round(df_surv['proporcao'] * 100, 2)\n",
    "    \n",
    "    ax = sns.factorplot(\n",
    "        data = df_surv,\n",
    "        x = 'sexo',\n",
    "        y = 'proporcao',\n",
    "        kind = 'bar',\n",
    "        palette = 'Blues_d',\n",
    "    );\n",
    "    \n",
    "    plt.title('SOBREVIVENTES: CLASSIFICADOS POR SEXO')\n",
    "    plt.ylabel('Percentual')\n",
    "    plt.xlabel('Sobreviventes')\n",
    "    plt.tight_layout()\n",
    "\n",
    "sex_survivors_compare()"
   ]
  },
  {
   "cell_type": "markdown",
   "metadata": {},
   "source": [
    "## 9. Qual a relação dos sobreviventes com a classe e sexo?"
   ]
  },
  {
   "cell_type": "code",
   "execution_count": null,
   "metadata": {},
   "outputs": [],
   "source": [
    "df.groupby(['classe','sexo'])['sobreviveu'].value_counts(normalize=True)"
   ]
  },
  {
   "cell_type": "markdown",
   "metadata": {},
   "source": [
    "As mulheres da primeira classe representaram a maior taxa de sobrevivência, 96,7% e a menor taxa de sobreviventes foi dos homens da terceira classe com apenas 13,5% de sobreviventes."
   ]
  },
  {
   "cell_type": "code",
   "execution_count": null,
   "metadata": {},
   "outputs": [],
   "source": [
    "def plot_survivors_by_class_sex():\n",
    "    \"\"\"\n",
    "        Exibir gráfico de sobreviventes por sexo e classe\n",
    "    \"\"\"\n",
    "    df_surv = df.groupby(['classe','sexo'])['sobreviveu'].value_counts(normalize=True).to_frame()\n",
    "    df_surv.columns = df_surv.columns.get_level_values(0)\n",
    "    df_surv.rename(columns={'sobreviveu': 'percentual'}, inplace=True)\n",
    "    df_surv['percentual'] = round(df_surv['percentual'] * 100, 2)\n",
    "    df_surv.reset_index(inplace=True)\n",
    "    \n",
    "    ax = sns.factorplot(\n",
    "        data = df_surv.query('sobreviveu == \"Sim\"'),\n",
    "        x = 'classe',\n",
    "        y = 'percentual',\n",
    "        hue = 'sexo',\n",
    "        kind = 'bar',\n",
    "        palette = 'Blues_d',\n",
    "    );\n",
    "    \n",
    "    plt.title('SOBREVIVENTES: CLASSIFICADOS POR SEXO E CLASSE')\n",
    "    plt.ylabel('Percentual')\n",
    "    plt.xlabel('Classe')\n",
    "    plt.tight_layout() \n",
    "    \n",
    "    return df_surv.query('sobreviveu == \"Sim\"')\n",
    "    \n",
    "plot_survivors_by_class_sex()"
   ]
  },
  {
   "cell_type": "markdown",
   "metadata": {},
   "source": [
    "\n",
    "## 10. Qual ponto de embarque recebeu mais passageiros?"
   ]
  },
  {
   "cell_type": "markdown",
   "metadata": {},
   "source": [
    "Calcular o volume de embarque para cada local."
   ]
  },
  {
   "cell_type": "code",
   "execution_count": null,
   "metadata": {},
   "outputs": [],
   "source": [
    "df['embarcou'].value_counts()"
   ]
  },
  {
   "cell_type": "markdown",
   "metadata": {},
   "source": [
    "Exibir o ponto com maior frequência"
   ]
  },
  {
   "cell_type": "code",
   "execution_count": null,
   "metadata": {},
   "outputs": [],
   "source": [
    "df['embarcou'].describe()"
   ]
  },
  {
   "cell_type": "markdown",
   "metadata": {},
   "source": [
    "O ponto de embarque que recebeu mais passageiros foi Southampton"
   ]
  },
  {
   "cell_type": "markdown",
   "metadata": {},
   "source": [
    "## 11. Qual a relação entre as tarifas e os sobreviventes?"
   ]
  },
  {
   "cell_type": "code",
   "execution_count": null,
   "metadata": {},
   "outputs": [],
   "source": [
    "df[df['sobreviveu'] == 'Sim']['tarifa'].describe()"
   ]
  },
  {
   "cell_type": "code",
   "execution_count": null,
   "metadata": {},
   "outputs": [],
   "source": [
    "df[df['sobreviveu'] == 'Não']['tarifa'].describe()"
   ]
  },
  {
   "cell_type": "markdown",
   "metadata": {},
   "source": [
    "Os sobreviventes apresentam uma tarifa média superior aos que não sobreviveram."
   ]
  },
  {
   "cell_type": "markdown",
   "metadata": {},
   "source": [
    "## 12. Quantos bilhetes únicos existem?"
   ]
  },
  {
   "cell_type": "code",
   "execution_count": null,
   "metadata": {},
   "outputs": [],
   "source": [
    "df['ticket'].nunique()"
   ]
  },
  {
   "cell_type": "markdown",
   "metadata": {},
   "source": [
    "## 13. Quantos bilhetes duplicados existem?"
   ]
  },
  {
   "cell_type": "code",
   "execution_count": null,
   "metadata": {},
   "outputs": [],
   "source": [
    "df['ticket'].duplicated().sum()"
   ]
  },
  {
   "cell_type": "markdown",
   "metadata": {},
   "source": [
    "## 14. Quais as características dos passageiros com bilhetes duplicados?"
   ]
  },
  {
   "cell_type": "code",
   "execution_count": null,
   "metadata": {},
   "outputs": [],
   "source": [
    "df_duplicated = df[df['ticket'].duplicated(keep=False)]"
   ]
  },
  {
   "cell_type": "code",
   "execution_count": null,
   "metadata": {},
   "outputs": [],
   "source": [
    "df_duplicated.describe(include='all')"
   ]
  },
  {
   "cell_type": "markdown",
   "metadata": {},
   "source": [
    "Pela descrição dos dados de tickets duplicados é possivel constatar que:\n",
    "- são no total 342 tickets duplicados,\n",
    "- destes 342, 177 sobreviveram\n",
    "- com maior frequência na terceira classe,\n",
    "- 178 são do sexo feminino\n",
    "- o ticket identificado como 1601 foi registrado sete vezes\n",
    "- a cabine mais frequente foi a G6, registrada quatro vezes\n",
    "- 241 embarcaram em Southampton\n",
    "- 199 são adultos\n",
    "- idade média de 26,9 anos"
   ]
  },
  {
   "cell_type": "markdown",
   "metadata": {},
   "source": [
    "## 15. Qual a relação entre os sobreviventes e os pontos de embarque?"
   ]
  },
  {
   "cell_type": "markdown",
   "metadata": {},
   "source": [
    "Seleção dos dados de passageiros agrupados por local"
   ]
  },
  {
   "cell_type": "code",
   "execution_count": null,
   "metadata": {},
   "outputs": [],
   "source": [
    "df_surv_embark = df.groupby(['embarcou'])"
   ]
  },
  {
   "cell_type": "markdown",
   "metadata": {},
   "source": [
    "Relação de sobreviventes por local de embarque"
   ]
  },
  {
   "cell_type": "code",
   "execution_count": null,
   "metadata": {},
   "outputs": [],
   "source": [
    "df_surv_embark['sobreviveu'].value_counts(normalize=True)"
   ]
  },
  {
   "cell_type": "markdown",
   "metadata": {},
   "source": [
    "Contagem de sobreviventes por local de embarque"
   ]
  },
  {
   "cell_type": "code",
   "execution_count": null,
   "metadata": {},
   "outputs": [],
   "source": [
    "df_surv_embark['sobreviveu'].value_counts()"
   ]
  },
  {
   "cell_type": "markdown",
   "metadata": {},
   "source": [
    "Contagem de embarques por local"
   ]
  },
  {
   "cell_type": "code",
   "execution_count": null,
   "metadata": {},
   "outputs": [],
   "source": [
    "df_surv_embark['classe'].count()"
   ]
  },
  {
   "cell_type": "markdown",
   "metadata": {},
   "source": [
    "Proporção de embarques por local"
   ]
  },
  {
   "cell_type": "code",
   "execution_count": null,
   "metadata": {},
   "outputs": [],
   "source": [
    "df['embarcou'].value_counts(normalize=True)"
   ]
  },
  {
   "cell_type": "markdown",
   "metadata": {},
   "source": [
    "O local de embarque que apresentou a maior número de sobreviventes foi Southampton com 217 (33,6%) sobreviventes do total de 644 que embarcaram, entretanto, Cherbourg apresentou maior percentual de sobreviventes 55,3%, 93 passageiros do total de 168. Queenstown apresentou 38,9% (30) de sobreviventes do total de 77 embarques."
   ]
  },
  {
   "cell_type": "markdown",
   "metadata": {},
   "source": [
    "---"
   ]
  },
  {
   "cell_type": "markdown",
   "metadata": {},
   "source": [
    "# Conclusão"
   ]
  },
  {
   "cell_type": "markdown",
   "metadata": {},
   "source": [
    "Ao analisar a amostra de dados de passageiros do Titanic, foi possível chegar as seguintes conclusões.\n",
    "- A primeira classe apresentou o maior percentual de sobreviventes, com 62,6%, contra 47,2% da segunda e 24,2% da terceira. Tal diferença pode apontar que houve alguma facilidade ou favorecimento no acesso aos botes salva vidas para os passageiros da primeira classe.\n",
    "- Dentre os sobreviventes, 68% são mulheres e 32% homens\n",
    "- O grupo de classe e sexo que apresentou maior taxa de sobreviventes foi o feminino da primeira classe, com a relação de 96,7%\n",
    "- 59,0% das crianças a bordo foram salvas\n",
    "- A idade média entre os sobreviventes era de 28,4 anos.\n",
    "- O embarque de passageiros de Southampton representou 72,4%"
   ]
  },
  {
   "cell_type": "markdown",
   "metadata": {},
   "source": [
    "# Limitações"
   ]
  },
  {
   "cell_type": "markdown",
   "metadata": {},
   "source": [
    "Inicialmente ao avaliar o conjunto de dados foi detectado que haviam campos como idade, embarcou e cabine, não preenchidos e que potencialmente prejudicariam a análise. \n",
    "Assim, foram feitos alguns ajustes como:\n",
    "- Campos de idade com valor nulo foram preenchidos com a média\n",
    "- Foi efetuada uma breve análise sobre os passageiros que apresentavam o campo 'embarcou' como nulo e se haviam sobrevivido, assim, dado que o retorno foi positivo, estes foram removidos do conjunto de dados considerando que estes não embarcaram.\n",
    "\n",
    "Valores abreviados em local de embarque (embarcou) foram substituídos pelo nome do local sem abreviação.\n",
    "\n",
    "Foram aplicadas traduções nos nomes das colunas e nos valores dos campos sobreviveu e sexo para auxiliar na criação de legendas dos gráficos.\n",
    "\n",
    "Foi criado um campo de categorização da idade dos passageiros com o objetivo de mapea-los facilmente e levantar informações a respeito de cada grupo."
   ]
  },
  {
   "cell_type": "markdown",
   "metadata": {},
   "source": [
    "---"
   ]
  },
  {
   "cell_type": "markdown",
   "metadata": {},
   "source": [
    "# Apresentação"
   ]
  },
  {
   "cell_type": "markdown",
   "metadata": {},
   "source": [
    "Mesmo após um século de seu naufrágio, que ocorreu em 1912, o Titanic é considerado um dos maiores desastres marítimos em tempos de paz. Sua história rendeu livros, filmes e diversos documentarios que buscam explorar e levar informações e curiosidades a seu respeito ao público. Nesse mesmo sentido, esse projeto tem como objetivo explorar o conjunto de dados do Titanic e tentar responder uma série de perguntas pertinentes. O arquivo está disponível no formato CSV através do [link](https://d17h27t6h515a5.cloudfront.net/topher/2017/October/59e4fe3d_titanic-data-6/titanic-data-6.csv)."
   ]
  },
  {
   "cell_type": "markdown",
   "metadata": {},
   "source": [
    "No primeiro instante, ao carregar o conjunto de dados, foi necessario avaliar suas características como, seu esquema de organização, consistência dos dados e a necessidade possíveis correções e adaptações que pudessem contribuir na manipulação e pesquisa. Neste passo foram aplicadas as seguintes mudanças: \n",
    "- Nomes de colunas e valores foram traduzidos para o português de modo que ficassem no mesmo idioma da análise;\n",
    "- Valores nulos na coluna 'idade' foram preenchidos com o valor médio;\n",
    "- Passageiros foram classificados por idade como Criança, menores de 15 anos, Jovem, entre 15 e 25, Adulto, entre 25 e 65, e Idoso para maiores de 65 anos;\n",
    "- Valores abreviados na coluna 'embarcou' foram substituidos pelo nome correspondente sem abreviação;\n",
    "- Passageiros que sobreviveram e não possuiam local de embarque foram removidos do conjunto, considerando que não embarcaram;\n"
   ]
  },
  {
   "cell_type": "markdown",
   "metadata": {},
   "source": [
    "Feito isso, foram levantadas perguntas das quais poderiam ser respondidas com o conjunto de dados disponível, são elas:\n",
    "1. Quantos sobreviveram?\n",
    "2. Quantos morreram?\n",
    "3. Quantas crianças sobreviveram?\n",
    "4. Quantas crianças morreram?\n",
    "5. Qual a idade média entre os sobreviventes?\n",
    "6. Qual a idade média entre os que morreram?\n",
    "7. Qual a relação dos sobreviventes com a classe de ingresso?\n",
    "8. Qual a relação dos sobreviventes com a classe e sexo?\n",
    "9. Qual ponto de embarque recebeu mais passageiros? \n",
    "10. Qual sexo mais relevante entre os sobreviventes?\n",
    "11. Qual a relação entre as tarifas e os sobreviventes?\n",
    "12. Quantos bilhetes únicos existem?\n",
    "13. Quantos bilhetes duplicados existem?\n",
    "14. Quais as características dos passageiros com bilhetes duplicados?\n",
    "15. Qual a relação entre os sobreviventes e os pontos de embarque?"
   ]
  },
  {
   "cell_type": "markdown",
   "metadata": {},
   "source": [
    "## Perguntas"
   ]
  },
  {
   "cell_type": "markdown",
   "metadata": {},
   "source": [
    "### 1 e 2, Quantos sobreviveram e quantos morreram? "
   ]
  },
  {
   "cell_type": "markdown",
   "metadata": {},
   "source": [
    "Complementares, a primeira e a segunda pergunta foram respondidas ao agrupar os dados por tipo de valor na coluna 'sobreviveu' e apontam que, conforme a tabela e gráfico abaixo, 340 (38,25%) pessoas sobreviveram e outras 549 (61,75%) morreram."
   ]
  },
  {
   "cell_type": "code",
   "execution_count": null,
   "metadata": {},
   "outputs": [],
   "source": [
    "plot_survivors()"
   ]
  },
  {
   "cell_type": "markdown",
   "metadata": {},
   "source": [
    "### 3 e 4, Quantas crianças sobreviveram e quantas morreram?"
   ]
  },
  {
   "cell_type": "markdown",
   "metadata": {},
   "source": [
    "Para as perguntas três e quatro, que também são complementares, foram filtrados os registros que apresentavam o valor 'Criança' na coluna 'categoria_idade' para posteriormente contabilizar os valores de sobreviventes."
   ]
  },
  {
   "cell_type": "code",
   "execution_count": null,
   "metadata": {},
   "outputs": [],
   "source": [
    "plot_children_balance()"
   ]
  },
  {
   "cell_type": "markdown",
   "metadata": {},
   "source": [
    "### 5 e 6, Qual a idade média entre os sobreviventes? E entre os que não sobreviveram? "
   ]
  },
  {
   "cell_type": "markdown",
   "metadata": {},
   "source": [
    "Os sobreviventes aprensentavam idade média de 28,47 anos e os que não sobreviveram com 30,48. Ambos aprensetaram um pico de densidade de passageiros entre 20 e 40 anos, sendo de sobreviventes levemente superior a 4% e dos não sobreviventes superior a 5%."
   ]
  },
  {
   "cell_type": "code",
   "execution_count": null,
   "metadata": {},
   "outputs": [],
   "source": [
    "plot_age_dist()"
   ]
  },
  {
   "cell_type": "markdown",
   "metadata": {},
   "source": [
    "### 7. Qual a relação dos sobreviventes com a classe de ingresso?"
   ]
  },
  {
   "cell_type": "markdown",
   "metadata": {},
   "source": [
    "A classe que apresentou maior número de sobreviventes foi a primeira com 62,62%, seguida da segunda classe com 52,72% e a terceira classe com 24,24%. Podemos concluir que algum fator, possivelmente, favoreceu os passageiros da primeira classe no acesso aos botes salva vidas."
   ]
  },
  {
   "cell_type": "code",
   "execution_count": null,
   "metadata": {},
   "outputs": [],
   "source": [
    "plot_surv_by_class()"
   ]
  },
  {
   "cell_type": "markdown",
   "metadata": {},
   "source": [
    "### 8. Qual o sexo mais relevante entre os sobreviventes?"
   ]
  },
  {
   "cell_type": "markdown",
   "metadata": {},
   "source": [
    "O sexo mais relevante entre os sobreviventes é o feminino com 67,94%."
   ]
  },
  {
   "cell_type": "code",
   "execution_count": null,
   "metadata": {},
   "outputs": [],
   "source": [
    "sex_survivors_compare()"
   ]
  },
  {
   "cell_type": "code",
   "execution_count": null,
   "metadata": {},
   "outputs": [],
   "source": [
    "df.query('sobreviveu == \"Sim\"')['sexo'].value_counts(normalize=True)"
   ]
  },
  {
   "cell_type": "markdown",
   "metadata": {},
   "source": [
    "### 9. Qual a relação dos sobreviventes com a classe e sexo? "
   ]
  },
  {
   "cell_type": "markdown",
   "metadata": {},
   "source": [
    "Ao analisarmos a proporção de sobreviventes por gênero e classe é possível notar como as mulheres da primeira e segunda se destacam em relação a seu grupo. Sobreviveram, 96,74% das mulheres da primeira classe e 92,11% das mulheres da segunda classe, ao passo que a proporção de homens, respectivamente, foi de 36,89% e 15,74%. \n",
    "O gênero que apresentou pior proporção foi o masculino na terceira classe com apenas 13,54% de sobreviventes."
   ]
  },
  {
   "cell_type": "code",
   "execution_count": null,
   "metadata": {},
   "outputs": [],
   "source": [
    "plot_survivors_by_class_sex()"
   ]
  },
  {
   "cell_type": "markdown",
   "metadata": {},
   "source": [
    "### 10. Qual ponto de embarque recebeu mais passageiros?"
   ]
  },
  {
   "cell_type": "code",
   "execution_count": null,
   "metadata": {},
   "outputs": [],
   "source": [
    "df['embarcou'].value_counts().to_frame()"
   ]
  },
  {
   "cell_type": "markdown",
   "metadata": {},
   "source": [
    "O ponto de embarque que recebeu mais passageiros foi de Southampton, ao sul do Reino Unido e também ponto de partida do navio."
   ]
  },
  {
   "cell_type": "markdown",
   "metadata": {},
   "source": [
    "### 11."
   ]
  },
  {
   "cell_type": "markdown",
   "metadata": {},
   "source": [
    "Este é um projeto aberto, não tem como objetivo encontrar respostas definitivas e campos que não foram analisados ser explorados em novas análises e ou revistos."
   ]
  },
  {
   "cell_type": "markdown",
   "metadata": {},
   "source": [
    "---"
   ]
  },
  {
   "cell_type": "markdown",
   "metadata": {},
   "source": [
    "# Consultas e referências\n",
    "\n",
    "- [Seaborn API documentation](https://seaborn.pydata.org/api.html)\n",
    "- [Stack Overflow: Seaborn](https://stackoverflow.com/questions/33524694/plotting-with-seaborn)\n",
    "- [Pandas documentation](https://pandas.pydata.org/pandas-docs/stable/)\n",
    "- [Stack Overflow: Pandas](https://stackoverflow.com/questions/tagged/pandas)\n",
    "- [Matplotlib documentation](https://matplotlib.org/contents.html)\n",
    "\n",
    "\n",
    "\n"
   ]
  }
 ],
 "metadata": {
  "kernelspec": {
   "display_name": "Python [default]",
   "language": "python",
   "name": "python3"
  },
  "language_info": {
   "codemirror_mode": {
    "name": "ipython",
    "version": 3
   },
   "file_extension": ".py",
   "mimetype": "text/x-python",
   "name": "python",
   "nbconvert_exporter": "python",
   "pygments_lexer": "ipython3",
   "version": "3.6.5"
  }
 },
 "nbformat": 4,
 "nbformat_minor": 2
}
