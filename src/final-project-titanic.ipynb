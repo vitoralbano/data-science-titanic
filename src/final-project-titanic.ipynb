{
 "cells": [
  {
   "cell_type": "markdown",
   "metadata": {},
   "source": [
    "# Data Science I - Projeto final"
   ]
  },
  {
   "cell_type": "code",
   "execution_count": null,
   "metadata": {},
   "outputs": [],
   "source": [
    "import pandas as pd\n",
    "import matplotlib.pyplot as plt\n",
    "import numpy as np\n",
    "import seaborn as sns\n",
    "\n",
    "%matplotlib inline"
   ]
  },
  {
   "cell_type": "code",
   "execution_count": null,
   "metadata": {},
   "outputs": [],
   "source": [
    "df = pd.read_csv('titanic-data-6.csv')"
   ]
  },
  {
   "cell_type": "markdown",
   "metadata": {},
   "source": [
    "## Perguntas (Questions)"
   ]
  },
  {
   "cell_type": "markdown",
   "metadata": {},
   "source": [
    "    1. Quais são os números de sobreviventes?\n",
    "    2. Em qual classe havia mais familiares?\n",
    "    3. Qual é o número de crianças a bordo?\n",
    "    4. Qual é a proporção de crianças por gênero?\n",
    "    5. Qual é a proporção de crianças por classe?\n",
    "    6. Qual é a proporção de crianças que sobreviveram?\n",
    "    "
   ]
  },
  {
   "cell_type": "markdown",
   "metadata": {},
   "source": [
    "## Preparar dados (Wrangle data)"
   ]
  },
  {
   "cell_type": "code",
   "execution_count": null,
   "metadata": {},
   "outputs": [],
   "source": [
    "df.shape"
   ]
  },
  {
   "cell_type": "code",
   "execution_count": null,
   "metadata": {},
   "outputs": [],
   "source": [
    "df.head()"
   ]
  },
  {
   "cell_type": "code",
   "execution_count": null,
   "metadata": {},
   "outputs": [],
   "source": [
    "df.info()"
   ]
  },
  {
   "cell_type": "code",
   "execution_count": null,
   "metadata": {},
   "outputs": [],
   "source": [
    "df['Sex'].nunique()"
   ]
  },
  {
   "cell_type": "code",
   "execution_count": null,
   "metadata": {},
   "outputs": [],
   "source": [
    "# Checking if exists null fields\n",
    "df.isnull().any()"
   ]
  },
  {
   "cell_type": "code",
   "execution_count": null,
   "metadata": {},
   "outputs": [],
   "source": [
    "# Filling null ages with mean\n",
    "df['Age'].fillna(round(df['Age'].mean()), inplace=True)"
   ]
  },
  {
   "cell_type": "code",
   "execution_count": null,
   "metadata": {},
   "outputs": [],
   "source": [
    "# Cheking if are there passengers without on board place and that weren't survived.\n",
    "df[df['Survived'] == 0]['Embarked'].isnull().any().sum()"
   ]
  },
  {
   "cell_type": "code",
   "execution_count": null,
   "metadata": {},
   "outputs": [],
   "source": [
    "# Removing passengers that weren't on board or without boarding place. No one of them were checked as not survived.\n",
    "df['Embarked'].dropna(how='any', inplace=True)"
   ]
  },
  {
   "cell_type": "code",
   "execution_count": null,
   "metadata": {},
   "outputs": [],
   "source": [
    "# Removing the 'Ticket' column, it doesn't look be an essencial info\n",
    "df.drop(labels='Ticket', axis=1, inplace=True)"
   ]
  },
  {
   "cell_type": "code",
   "execution_count": null,
   "metadata": {},
   "outputs": [],
   "source": [
    "# Changing 'Embarked' column abbreviated values to full values\n",
    "embarked_places = {'S': 'Southampton', 'C': 'Cherbourg', 'Q': 'Queenstown'}\n",
    "df['Embarked'].replace(embarked_places.keys(), embarked_places.values(), inplace=True)"
   ]
  },
  {
   "cell_type": "code",
   "execution_count": null,
   "metadata": {},
   "outputs": [],
   "source": [
    "survived = {'0':'No', '1':'Yes'}\n",
    "df['Survived'] = df['Survived'].astype(str).replace(survived.keys(),survived.values())"
   ]
  },
  {
   "cell_type": "code",
   "execution_count": null,
   "metadata": {},
   "outputs": [],
   "source": [
    "def age_category(age):\n",
    "    # Used as reference:\n",
    "    # https://www.statcan.gc.ca/eng/concepts/definitions/age2\n",
    "    if(age < 15):\n",
    "        return 'Children'\n",
    "    elif(age < 25):\n",
    "        return 'Youth'\n",
    "    elif(age < 65):\n",
    "        return 'Adult'\n",
    "    else:\n",
    "        return 'Senior'\n",
    "    \n",
    "df['AgeCategory'] = df['Age'].apply(age_category)"
   ]
  },
  {
   "cell_type": "code",
   "execution_count": null,
   "metadata": {},
   "outputs": [],
   "source": [
    "df.head()"
   ]
  },
  {
   "cell_type": "markdown",
   "metadata": {},
   "source": [
    "## Explorar (Explore)"
   ]
  },
  {
   "cell_type": "code",
   "execution_count": null,
   "metadata": {},
   "outputs": [],
   "source": [
    "df.head()"
   ]
  },
  {
   "cell_type": "code",
   "execution_count": null,
   "metadata": {},
   "outputs": [],
   "source": [
    "pd.plotting.scatter_matrix(df[['Survived', 'Pclass', 'Age', 'SibSp', 'Parch', 'Fare']], figsize=(15,15));"
   ]
  },
  {
   "cell_type": "code",
   "execution_count": null,
   "metadata": {},
   "outputs": [],
   "source": [
    "df.hist(figsize=(15,15));"
   ]
  },
  {
   "cell_type": "code",
   "execution_count": null,
   "metadata": {},
   "outputs": [],
   "source": [
    "plt.close('all')\n",
    "sns.set_style('whitegrid')"
   ]
  },
  {
   "cell_type": "markdown",
   "metadata": {},
   "source": [
    "### 1. Quais são os números de sobreviventes? Geral, por classe, gênero e taxa"
   ]
  },
  {
   "cell_type": "markdown",
   "metadata": {},
   "source": [
    "#### Sobreviventes"
   ]
  },
  {
   "cell_type": "code",
   "execution_count": null,
   "metadata": {},
   "outputs": [],
   "source": [
    "\n",
    "\n",
    "title = 'TITANIC SURVIVORS\\nTotal passengers sample: {count}'.format(count=df.shape[0])\n",
    "\n",
    "fig, ax = plt.subplots(1, 2)\n",
    "fig.suptitle(title, fontsize='x-large', horizontalalignment='center', verticalalignment='bottom')\n",
    "\n",
    "# Redismensionar o layout automaticamente\n",
    "plt.tight_layout()\n",
    "# Ajuste de posicionamento em relação ao topo\n",
    "plt.subplots_adjust(top=.9)\n",
    "# Definição da largura dos gráficos\n",
    "fig.set_figwidth(14)\n",
    "\n",
    "# Definição do dataframe de proporções\n",
    "df_proportions = df['Survived'].value_counts(normalize=True).reset_index().rename(columns={'index':'Survived','Survived':'Proportions'})\n",
    "df_proportions['Proportions'] = df_proportions['Proportions'] * 100\n",
    "\n",
    "# Definição dos títulos\n",
    "ax[0].set_title('Survivors count')\n",
    "ax[1].set_title('Survivors proportions')\n",
    "\n",
    "# Gerar os gráficos com seaborn\n",
    "sns.countplot(data=df, x='Survived', ax=ax[0], palette='Blues_d')\n",
    "sns.barplot(data=df_proportions, x='Survived', y='Proportions', ax=ax[1], palette='Blues_d');\n"
   ]
  },
  {
   "cell_type": "code",
   "execution_count": null,
   "metadata": {},
   "outputs": [],
   "source": [
    "df_proportions"
   ]
  },
  {
   "cell_type": "markdown",
   "metadata": {},
   "source": [
    "#### Sobreviventes por gênero e classe"
   ]
  },
  {
   "cell_type": "code",
   "execution_count": null,
   "metadata": {},
   "outputs": [],
   "source": [
    "ax_by_class = sns.factorplot(data=df, x='Survived', hue='Sex', col='Pclass', kind='count', palette='Blues_d')\n",
    "ax_by_class.set_titles('Class {col_name}');"
   ]
  },
  {
   "cell_type": "code",
   "execution_count": null,
   "metadata": {},
   "outputs": [],
   "source": [
    "df_filtered = df.groupby(['Pclass', 'Sex', 'Survived']).count()['Age'].reset_index()\n",
    "df_filtered.rename(columns={'Age':'Count'}, inplace=True)\n",
    "\n",
    "df_filtered"
   ]
  },
  {
   "cell_type": "markdown",
   "metadata": {},
   "source": [
    "#### Sobrevivents por local de embarque"
   ]
  },
  {
   "cell_type": "code",
   "execution_count": null,
   "metadata": {},
   "outputs": [],
   "source": [
    "ax_by_class = sns.factorplot(data=df, x='Survived', hue='Sex', col='Embarked', kind='count', palette='Blues_d')\n",
    "ax_by_class.set_titles('{col_name}');"
   ]
  },
  {
   "cell_type": "markdown",
   "metadata": {},
   "source": [
    "#### Local de embarque por classe e gênero"
   ]
  },
  {
   "cell_type": "code",
   "execution_count": null,
   "metadata": {},
   "outputs": [],
   "source": [
    "ax_by_class = sns.factorplot(data=df, x='Pclass', hue='Sex', col='Embarked', kind='count', palette='Blues_d')\n",
    "ax_by_class.set_titles('{col_name}');"
   ]
  },
  {
   "cell_type": "markdown",
   "metadata": {},
   "source": [
    "#### Classificação de idade por classe, local de embarque e sobreviventes"
   ]
  },
  {
   "cell_type": "code",
   "execution_count": null,
   "metadata": {},
   "outputs": [],
   "source": [
    "ax_by_class = sns.factorplot(data=df, x='AgeCategory', hue='Survived', col='Pclass', kind='count', palette='Blues_d')\n",
    "ax_by_class.set_titles('Class {col_name}');"
   ]
  },
  {
   "cell_type": "code",
   "execution_count": null,
   "metadata": {},
   "outputs": [],
   "source": [
    "ax_by_class = sns.factorplot(data=df, x='AgeCategory', hue='Survived', col='Embarked', kind='count', palette='Blues_d')\n",
    "ax_by_class.set_titles('{col_name}');"
   ]
  },
  {
   "cell_type": "code",
   "execution_count": null,
   "metadata": {},
   "outputs": [],
   "source": [
    "sns.violinplot(data=df, x='Pclass', y='Age', col='Pclass', hue='Sex', split=True, inner='quart', palette='Blues_d');\n"
   ]
  },
  {
   "cell_type": "code",
   "execution_count": null,
   "metadata": {},
   "outputs": [],
   "source": [
    "sns.violinplot(data=df, x='Sex',y='Pclass', hue='Sex', split=True, inner='quart', palette='Blues_d');\n"
   ]
  },
  {
   "cell_type": "code",
   "execution_count": null,
   "metadata": {},
   "outputs": [],
   "source": [
    "ax_by_class = sns.factorplot(data=df, x='Sex', y='Parch', col='Pclass', kind='bar', palette='Blues_d')\n",
    "ax_by_class.set_titles('Class {col_name}');"
   ]
  },
  {
   "cell_type": "markdown",
   "metadata": {},
   "source": [
    "#### Contagem de pessoas por gênero em cada classe"
   ]
  },
  {
   "cell_type": "code",
   "execution_count": null,
   "metadata": {},
   "outputs": [],
   "source": [
    "ax_by_class = sns.factorplot(data=df, x='Sex', col='Pclass', kind='count', palette='Blues_d')\n",
    "ax_by_class.set_titles('Class {col_name}');"
   ]
  },
  {
   "cell_type": "code",
   "execution_count": null,
   "metadata": {},
   "outputs": [],
   "source": [
    "df_surv.shape"
   ]
  },
  {
   "cell_type": "code",
   "execution_count": null,
   "metadata": {},
   "outputs": [],
   "source": [
    "df_dead.shape"
   ]
  },
  {
   "cell_type": "code",
   "execution_count": null,
   "metadata": {},
   "outputs": [],
   "source": [
    "df[['SibSp','Parch']].value_counts()"
   ]
  },
  {
   "cell_type": "code",
   "execution_count": null,
   "metadata": {},
   "outputs": [],
   "source": [
    "ax_by_class = sns.factorplot(data=df, x='SibSp', col='Pclass', kind='count', palette='Blues_d')\n",
    "ax_by_class.set_titles('Class {col_name}');"
   ]
  },
  {
   "cell_type": "code",
   "execution_count": null,
   "metadata": {},
   "outputs": [],
   "source": [
    "ax_by_class = sns.factorplot(data=df, x='Parch', col='Pclass', kind='count', palette='Blues_d')\n",
    "ax_by_class.set_titles('Class {col_name}');"
   ]
  },
  {
   "cell_type": "markdown",
   "metadata": {},
   "source": [
    "## Perguntas\n",
    "    1. Quais são os números de sobreviventes?\n",
    "    2. Em qual classe havia mais familiares?\n",
    "    3. Qual é o número de crianças a bordo?\n",
    "    4. Qual é a proporção de crianças por gênero?\n",
    "    5. Qual é a proporção de crianças por classe?\n",
    "    6. Qual é a proporção de crianças que sobreviveram?\n",
    "    "
   ]
  },
  {
   "cell_type": "markdown",
   "metadata": {},
   "source": [
    "## Conclusões    \n",
    "    1. Com base na amostra analisada, sobreviveram apenas 38,4% (342) do total de 891 pessoas a bordo, 61,6% (549) morreram.\n",
    "    2. "
   ]
  }
 ],
 "metadata": {
  "kernelspec": {
   "display_name": "Python [default]",
   "language": "python",
   "name": "python3"
  },
  "language_info": {
   "codemirror_mode": {
    "name": "ipython",
    "version": 3
   },
   "file_extension": ".py",
   "mimetype": "text/x-python",
   "name": "python",
   "nbconvert_exporter": "python",
   "pygments_lexer": "ipython3",
   "version": "3.6.5"
  }
 },
 "nbformat": 4,
 "nbformat_minor": 2
}
